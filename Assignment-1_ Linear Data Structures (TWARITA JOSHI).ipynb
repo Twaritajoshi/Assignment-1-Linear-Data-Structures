{
 "cells": [
  {
   "cell_type": "code",
   "execution_count": 1,
   "id": "c9b61cc2",
   "metadata": {},
   "outputs": [
    {
     "name": "stdout",
     "output_type": "stream",
     "text": [
      "Count of pair is 3\n"
     ]
    }
   ],
   "source": [
    "#Q1. Write a program to find all pairs of an integer array whose sum is equal to a given number?\n",
    "\n",
    "\n",
    "def getpairCount(arr, n, sum):\n",
    " \n",
    "    count = 0  # Initialize result\n",
    " \n",
    "    # Consider all possible pairs\n",
    "    # and check their sums\n",
    "    for i in range(0, n):\n",
    "        for j in range(i + 1, n):\n",
    "            if arr[i] + arr[j] == sum:\n",
    "                count += 1\n",
    " \n",
    "    return count\n",
    " \n",
    " # Driver function\n",
    "arr = [1,2,4,-1,5,-2,]\n",
    "n = len(arr)\n",
    "sum = 3\n",
    "print(\"Count of pair is\",\n",
    "      getpairCount(arr, n, sum))"
   ]
  },
  {
   "cell_type": "code",
   "execution_count": 2,
   "id": "a8f79738",
   "metadata": {},
   "outputs": [
    {
     "name": "stdout",
     "output_type": "stream",
     "text": [
      "Original array: \n",
      "1\n",
      "2\n",
      "3\n",
      "4\n",
      "5\n",
      "Array in reverse order:\n",
      "5\n",
      "4\n",
      "3\n",
      "2\n",
      "1\n"
     ]
    }
   ],
   "source": [
    "#Q2. Write a program to reverse an array in place? In place means you cannot create a new array. You have to update the original array.\n",
    "\n",
    "\n",
    "import array\n",
    "\n",
    "arr = [1, 2, 3, 4, 5];     \n",
    "print(\"Original array: \")   \n",
    "for i in range(0, len(arr)):    \n",
    "    print(arr[i]),     \n",
    "print(\"Array in reverse order:\")    \n",
    "   \n",
    "for i in range(len(arr)-1, -1, -1):     \n",
    "    print(arr[i]),\n",
    "\n",
    "\n",
    "\n",
    "\n"
   ]
  },
  {
   "cell_type": "code",
   "execution_count": 8,
   "id": "bd408242",
   "metadata": {},
   "outputs": [
    {
     "name": "stdout",
     "output_type": "stream",
     "text": [
      "Given Strings are rotations of each other.\n"
     ]
    }
   ],
   "source": [
    "#Q3. Write a program to check if two strings are a rotation of each other?\n",
    "\n",
    "def checkRotation(s1, s2): \n",
    "    temp = '' \n",
    "  \n",
    "     \n",
    "    if len(s1) != len(s2): \n",
    "        return False\n",
    "    temp = s1 + s1 \n",
    "    if s2 in temp: \n",
    "        return True\n",
    "    \n",
    "    else: \n",
    "        return False\n",
    "string1 = \"TWARITA\"\n",
    "string2 = \"ITATWAR\"\n",
    "  \n",
    "if checkRotation(string1, string2): \n",
    "    print(\"Given Strings are rotations of each other.\")\n",
    "else: \n",
    "    print(\"Given Strings are not rotations of each other.\")"
   ]
  },
  {
   "cell_type": "code",
   "execution_count": 10,
   "id": "a7fec751",
   "metadata": {},
   "outputs": [
    {
     "name": "stdout",
     "output_type": "stream",
     "text": [
      "V\n"
     ]
    }
   ],
   "source": [
    "#Q4. Write a program to print the first non-repeated character from a string?\n",
    "\n",
    "def FirstNonRepeat(s):\n",
    " \n",
    "   for i in s:\n",
    " \n",
    "       if (s.find(i,(s.find(i)+1))) == -1:\n",
    " \n",
    "           print(i)\n",
    " \n",
    "           break\n",
    " \n",
    "   return\n",
    " \n",
    "s = 'GOOGIVESGREATTHINGS'\n",
    " \n",
    "FirstNonRepeat(s)"
   ]
  },
  {
   "cell_type": "code",
   "execution_count": 14,
   "id": "89b9c44f",
   "metadata": {},
   "outputs": [
    {
     "name": "stdout",
     "output_type": "stream",
     "text": [
      "Enter number of disks: 3\n",
      "Move disk 1 from disk A to disk C.\n",
      "Move disk 2 from disk A to disk B.\n",
      "Move disk 1 from disk C to disk B.\n",
      "Move disk 3 from disk A to disk C.\n",
      "Move disk 1 from disk B to disk A.\n",
      "Move disk 2 from disk B to disk C.\n",
      "Move disk 1 from disk A to disk C.\n"
     ]
    }
   ],
   "source": [
    "#Q5. Read about the Tower of Hanoi algorithm. Write a program to implement it.\n",
    "\n",
    "def hanoi(disks, source, auxiliary, target):\n",
    "    if disks == 1:\n",
    "        print('Move disk 1 from disk {} to disk {}.'.format(source, target))\n",
    "        return\n",
    " \n",
    "    hanoi(disks - 1, source, target, auxiliary)\n",
    "    print('Move disk {} from disk {} to disk {}.'.format(disks, source, target))\n",
    "    hanoi(disks - 1, auxiliary, source, target)\n",
    " \n",
    " \n",
    "disks = int(input('Enter number of disks: '))\n",
    "hanoi(disks, 'A', 'B', 'C')\n"
   ]
  },
  {
   "cell_type": "code",
   "execution_count": 33,
   "id": "eb2b4716",
   "metadata": {},
   "outputs": [
    {
     "name": "stdout",
     "output_type": "stream",
     "text": [
      "Prefix :  +AB-CD\n"
     ]
    }
   ],
   "source": [
    "#Q6. Read about infix, prefix, and postfix expressions. Write a program to convert postfix to prefix expression.\n",
    "\n",
    "def isOperator(x):\n",
    " \n",
    "    if x == \"+\":\n",
    "        return True\n",
    " \n",
    "    if x == \"-\":\n",
    "        return True\n",
    " \n",
    "    if x == \"/\":\n",
    "        return True\n",
    " \n",
    "    if x == \"*\":\n",
    "        return True\n",
    " \n",
    "    return False\n",
    " \n",
    "def postToPre(post_exp):\n",
    " \n",
    "    s = []\n",
    " \n",
    "    length = len(post_exp)\n",
    " \n",
    "    for i in range(length):\n",
    " \n",
    "        if (isOperator(post_exp[i])):\n",
    " \n",
    "            op1 = s[-1]\n",
    "            s.pop()\n",
    "            op2 = s[-1]\n",
    "            s.pop()\n",
    " \n",
    "            temp = post_exp[i] + op2 + op1\n",
    " \n",
    "            s.append(temp)\n",
    " \n",
    "        else:\n",
    " \n",
    "            s.append(post_exp[i])\n",
    " \n",
    "    \n",
    "    ans = \"\"\n",
    "    for i in s:\n",
    "        ans += i\n",
    "    return ans\n",
    " \n",
    "if __name__ == \"__main__\":\n",
    " \n",
    "    post_exp = \"AB+CD-\"\n",
    "     \n",
    "    print(\"Prefix : \", postToPre(post_exp))\n",
    " "
   ]
  },
  {
   "cell_type": "code",
   "execution_count": 35,
   "id": "c139e032",
   "metadata": {},
   "outputs": [
    {
     "name": "stdout",
     "output_type": "stream",
     "text": [
      "((A-(B/C))*((A/K)-L))\n"
     ]
    }
   ],
   "source": [
    "#Q7. Write a program to convert prefix expression to infix expression.\n",
    "\n",
    "def prefixToInfix(prefix):\n",
    "    stack = []\n",
    "     \n",
    "    i = len(prefix) - 1\n",
    "    while i >= 0:\n",
    "        if not isOperator(prefix[i]):\n",
    "             \n",
    "            stack.append(prefix[i])\n",
    "            i -= 1\n",
    "        else:\n",
    "           \n",
    "            str = \"(\" + stack.pop() + prefix[i] + stack.pop() + \")\"\n",
    "            stack.append(str)\n",
    "            i -= 1\n",
    "     \n",
    "    return stack.pop()\n",
    " \n",
    "def isOperator(c):\n",
    "    if c == \"*\" or c == \"+\" or c == \"-\" or c == \"/\" or c == \"^\" or c == \"(\" or c == \")\":\n",
    "        return True\n",
    "    else:\n",
    "        return False\n",
    "if __name__==\"__main__\":\n",
    "    str = \"*-A/BC-/AKL\"\n",
    "    print(prefixToInfix(str))"
   ]
  },
  {
   "cell_type": "code",
   "execution_count": 36,
   "id": "33782942",
   "metadata": {},
   "outputs": [
    {
     "name": "stdout",
     "output_type": "stream",
     "text": [
      "Balanced\n"
     ]
    }
   ],
   "source": [
    "#Q8. Write a program to check if all the brackets are closed in a given code snippet.\n",
    "\n",
    "def areBracketsBalanced(expr):\n",
    "    stack = []\n",
    " \n",
    "    for char in expr:\n",
    "        if char in [\"(\", \"{\", \"[\"]:\n",
    " \n",
    "            stack.append(char)\n",
    "        else:\n",
    "            if not stack:\n",
    "                return False\n",
    "            current_char = stack.pop()\n",
    "            if current_char == '(':\n",
    "                if char != \")\":\n",
    "                    return False\n",
    "            if current_char == '{':\n",
    "                if char != \"}\":\n",
    "                    return False\n",
    "            if current_char == '[':\n",
    "                if char != \"]\":\n",
    "                    return False\n",
    " \n",
    "    if stack:\n",
    "        return False\n",
    "    return True\n",
    " \n",
    "if __name__ == \"__main__\":\n",
    "    expr = \"({{}}){}[]\"\n",
    " \n",
    "    if areBracketsBalanced(expr):\n",
    "        print(\"Balanced\")\n",
    "    else:\n",
    "        print(\"Not Balanced\")"
   ]
  },
  {
   "cell_type": "code",
   "execution_count": 37,
   "id": "c13b7e85",
   "metadata": {},
   "outputs": [
    {
     "name": "stdout",
     "output_type": "stream",
     "text": [
      "Original Stack\n",
      "5\n",
      "4\n",
      "3\n",
      "2\n",
      "1\n",
      "\n",
      "Stack after Reversing\n",
      "1\n",
      "2\n",
      "3\n",
      "4\n",
      "5\n"
     ]
    }
   ],
   "source": [
    "#Q9. Write a program to reverse a stack.\n",
    "\n",
    "class Stack:\n",
    " \n",
    "    def __init__(self):\n",
    "        self.Elements = []\n",
    "         \n",
    "    def push(self, value):\n",
    "        self.Elements.append(value)\n",
    "       \n",
    "    def pop(self):\n",
    "        return self.Elements.pop()\n",
    "     \n",
    "    def empty(self):\n",
    "        return self.Elements == []\n",
    "     \n",
    "    def show(self):\n",
    "        for value in reversed(self.Elements):\n",
    "            print(value)\n",
    "def BottomInsert(s, value):\n",
    "    if s.empty():\n",
    "        s.push(value)\n",
    "    else:\n",
    "        popped = s.pop()\n",
    "        BottomInsert(s, value)\n",
    "        s.push(popped)\n",
    "def Reverse(s):\n",
    "    if s.empty():\n",
    "        pass\n",
    "    else:\n",
    "        popped = s.pop()\n",
    "        Reverse(s)\n",
    "        BottomInsert(s, popped)\n",
    " \n",
    " \n",
    "stk = Stack()\n",
    "stk.push(1)\n",
    "stk.push(2)\n",
    "stk.push(3)\n",
    "stk.push(4)\n",
    "stk.push(5)\n",
    " \n",
    "print(\"Original Stack\")\n",
    "stk.show()\n",
    " \n",
    "print(\"\\nStack after Reversing\")\n",
    "Reverse(stk)\n",
    "stk.show()"
   ]
  },
  {
   "cell_type": "code",
   "execution_count": 57,
   "id": "f52a8ff0",
   "metadata": {},
   "outputs": [
    {
     "name": "stdout",
     "output_type": "stream",
     "text": [
      "1\n",
      "4\n",
      "1\n"
     ]
    }
   ],
   "source": [
    "#Q10. Write a program to find the smallest number using a stack.\n",
    "\n",
    "class MinStack(object):\n",
    "    min=float('inf')\n",
    "    def __init__(self):\n",
    "        self.min=float('inf')\n",
    "        self.stack = []\n",
    "    def push(self, x):\n",
    "        if x<=self.min:\n",
    "            self.stack.append(self.min)\n",
    "            self.min = x\n",
    "        self.stack.append(x)\n",
    "    def pop(self):\n",
    "        t = self.stack[1]\n",
    "        self.stack.pop()\n",
    "        if self.min == t:\n",
    "            self.min = self.stack[1]\n",
    "            self.stack.pop()\n",
    "    def top(self):\n",
    "        return self.stack[1]\n",
    "    def getMin(self):\n",
    "        return self.min\n",
    "m = MinStack()\n",
    "m.push(4)\n",
    "m.push(1)\n",
    "m.push(2)\n",
    "print(m.getMin())\n",
    "m.pop()\n",
    "print(m.top())\n",
    "print(m.getMin())\n"
   ]
  },
  {
   "cell_type": "code",
   "execution_count": null,
   "id": "89f96025",
   "metadata": {},
   "outputs": [],
   "source": []
  }
 ],
 "metadata": {
  "kernelspec": {
   "display_name": "Python 3 (ipykernel)",
   "language": "python",
   "name": "python3"
  },
  "language_info": {
   "codemirror_mode": {
    "name": "ipython",
    "version": 3
   },
   "file_extension": ".py",
   "mimetype": "text/x-python",
   "name": "python",
   "nbconvert_exporter": "python",
   "pygments_lexer": "ipython3",
   "version": "3.9.12"
  }
 },
 "nbformat": 4,
 "nbformat_minor": 5
}
